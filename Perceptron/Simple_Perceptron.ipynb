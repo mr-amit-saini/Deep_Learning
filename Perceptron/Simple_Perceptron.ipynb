{
 "cells": [
  {
   "cell_type": "markdown",
   "metadata": {},
   "source": [
    "## Implement a simple Perceptron from scratch\n",
    " - Feed Forward\n",
    " - Back Progation\n",
    " - Sigmoid Activation Function"
   ]
  },
  {
   "cell_type": "code",
   "execution_count": 1,
   "metadata": {},
   "outputs": [
    {
     "data": {
      "text/plain": [
       "['X', 'D']"
      ]
     },
     "execution_count": 1,
     "metadata": {},
     "output_type": "execute_result"
    }
   ],
   "source": [
    "# Import libraries\n",
    "import numpy as np\n",
    "import math\n",
    "import matplotlib.pyplot as plt\n",
    "\n",
    "data = np.load('data.npz')\n",
    "list(data.keys())"
   ]
  },
  {
   "cell_type": "code",
   "execution_count": 2,
   "metadata": {},
   "outputs": [
    {
     "name": "stdout",
     "output_type": "stream",
     "text": [
      "X\n",
      "[[ 1.  1.]\n",
      " [ 1.  2.]\n",
      " [ 2.  2.]\n",
      " [ 2.  1.]\n",
      " [ 1. -1.]\n",
      " [ 1. -3.]\n",
      " [ 1. -5.]\n",
      " [ 1. -7.]]\n",
      "D\n",
      "[[1.]\n",
      " [1.]\n",
      " [1.]\n",
      " [1.]\n",
      " [0.]\n",
      " [0.]\n",
      " [0.]\n",
      " [0.]]\n"
     ]
    }
   ],
   "source": [
    "# Print dataset\n",
    "lst = data.files\n",
    "for key in lst:\n",
    "    print(key)\n",
    "    print(data[key])"
   ]
  },
  {
   "cell_type": "code",
   "execution_count": 3,
   "metadata": {},
   "outputs": [
    {
     "data": {
      "text/plain": [
       "<function matplotlib.pyplot.show(*args, **kw)>"
      ]
     },
     "execution_count": 3,
     "metadata": {},
     "output_type": "execute_result"
    },
    {
     "data": {
      "image/png": "[encoded data removed]",
      "text/plain": [
       "<Figure size 432x288 with 1 Axes>"
      ]
     },
     "metadata": {
      "needs_background": "light"
     },
     "output_type": "display_data"
    }
   ],
   "source": [
    "plt.title('Raw Data')\n",
    "plt.scatter(data['X'][:4,0], data['X'][:4,1], c='blue', marker='o', label = 'Class 1')\n",
    "plt.scatter(data['X'][-4:,0], data['X'][-4:,1], c='red', marker='o', label = 'Class 0')\n",
    "plt.legend()\n",
    "plt.show"
   ]
  },
  {
   "cell_type": "code",
   "execution_count": 4,
   "metadata": {},
   "outputs": [
    {
     "data": {
      "text/plain": [
       "<function matplotlib.pyplot.show(*args, **kw)>"
      ]
     },
     "execution_count": 4,
     "metadata": {},
     "output_type": "execute_result"
    },
    {
     "data": {
      "image/png": "[encoded data removed]",
      "text/plain": [
       "<Figure size 432x288 with 1 Axes>"
      ]
     },
     "metadata": {
      "needs_background": "light"
     },
     "output_type": "display_data"
    }
   ],
   "source": [
    "original_weight = np.array([0, -1, -1])\n",
    "original_x_boundary = np.linspace(1, 2, 10)\n",
    "original_y_boundary = (-original_weight[1]/original_weight[2])*original_x_boundary-(original_weight[0]/original_weight[2])\n",
    "\n",
    "plt.title('Data with Boundary')\n",
    "plt.scatter(data['X'][:4,0], data['X'][:4,1], c='blue', marker='o', label = 'Class 1')\n",
    "plt.scatter(data['X'][-4:,0], data['X'][-4:,1], c='red', marker='o', label = 'Class 0')\n",
    "plt.plot(original_x_boundary,original_y_boundary)\n",
    "plt.legend()\n",
    "plt.show"
   ]
  },
  {
   "cell_type": "code",
   "execution_count": 5,
   "metadata": {},
   "outputs": [],
   "source": [
    "class Perceptron:\n",
    "    \n",
    "    def __init__(self, lr: float):\n",
    "        \"\"\"\n",
    "        Constructor of the Perceptron class.\n",
    "        \n",
    "        Parameters\n",
    "        ----------\n",
    "        lr: float\n",
    "            Learning rate for updating weights.\n",
    "        \n",
    "        \"\"\"\n",
    "        self.w = np.array([0, -1, -1], dtype=float) # weight vector  \n",
    "        self.lr = lr\n",
    "    \n",
    "    def forward(self, x: np.ndarray) -> float:\n",
    "        \"\"\"\n",
    "        Direct propagation of the perceptron with its activation function y = F (w ^ T x)\n",
    "        \n",
    "        Parameters\n",
    "        ----------\n",
    "        x: np.ndarray\n",
    "            Input vector of length 2.\n",
    "        \n",
    "        Returns\n",
    "        -------\n",
    "        y: np.float\n",
    "            Exit of the perceptron after the activation function.\n",
    "        \n",
    "        \"\"\"\n",
    "        \n",
    "        net = self.net_function(x)\n",
    "        y = self.sigmoid(net)\n",
    "        \n",
    "        return y\n",
    "    \n",
    "        \n",
    "    def sigmoid(self, net : float) -> float:\n",
    "        y = 1/(1+math.exp(-net))\n",
    "        return y\n",
    "    \n",
    "    def net_function(self, x : np.ndarray) -> float:\n",
    "        net = x[0]*self.w[1]+x[1]*self.w[2]+self.w[0]\n",
    "        return net"
   ]
  },
  {
   "cell_type": "code",
   "execution_count": 6,
   "metadata": {},
   "outputs": [
    {
     "name": "stdout",
     "output_type": "stream",
     "text": [
      "Loss :  0.4975304337760027\n"
     ]
    }
   ],
   "source": [
    "ff_perceptron = Perceptron(lr=0.1)\n",
    "y = []\n",
    "\n",
    "for index in range(len(data['D'])):\n",
    "    y.append(ff_perceptron.forward(data['X'][index]))\n",
    "    loss = 1/2*(y[index] - float(data['D'][index]))**2\n",
    "        \n",
    "print(\"Loss : \", loss) # accuracy is in terms of loss or cost function"
   ]
  },
  {
   "cell_type": "code",
   "execution_count": 7,
   "metadata": {},
   "outputs": [
    {
     "name": "stdout",
     "output_type": "stream",
     "text": [
      "Feed Forward Weights:  [ 0. -1. -1.]\n"
     ]
    },
    {
     "data": {
      "text/plain": [
       "<function matplotlib.pyplot.show(*args, **kw)>"
      ]
     },
     "execution_count": 7,
     "metadata": {},
     "output_type": "execute_result"
    },
    {
     "data": {
      "image/png": "[encoded data removed]",
      "text/plain": [
       "<Figure size 432x288 with 1 Axes>"
      ]
     },
     "metadata": {
      "needs_background": "light"
     },
     "output_type": "display_data"
    }
   ],
   "source": [
    "print(\"Feed Forward Weights: \", ff_perceptron.w)\n",
    "y_new_boundary = (-ff_perceptron.w[1]/ff_perceptron.w[2])*original_x_boundary-(ff_perceptron.w[0]/ff_perceptron.w[2])\n",
    "\n",
    "plt.title('Data and Decision Boundaries')\n",
    "plt.scatter(data['X'][:4,0], data['X'][:4,1], c='blue', marker='o', label = 'Class 1')\n",
    "plt.scatter(data['X'][-4:,0], data['X'][-4:,1], c='red', marker='o', label = 'Class 0')\n",
    "plt.plot(original_x_boundary,original_y_boundary, label = 'Original Boundary', marker='|', linestyle='dashed')\n",
    "plt.plot(original_x_boundary,y_new_boundary, label = 'Final Boundary')\n",
    "plt.legend()\n",
    "plt.show"
   ]
  },
  {
   "cell_type": "code",
   "execution_count": 8,
   "metadata": {},
   "outputs": [],
   "source": [
    "class Perceptron:\n",
    "       \n",
    "    def __init__(self, lr: float):\n",
    "        \"\"\"\n",
    "        Constructor of the Perceptron class.\n",
    "        \n",
    "        Parameters\n",
    "        ----------\n",
    "        lr: float\n",
    "            Learning rate for updating weights.\n",
    "        \n",
    "        \"\"\"\n",
    "        self.w = np.array([0, -1, -1], dtype=float) # weight vector  \n",
    "        self.lr = lr\n",
    "    \n",
    "    def forward(self, x: np.ndarray) -> float:\n",
    "        \"\"\"\n",
    "        Direct propagation of the perceptron with its activation function y = F (w ^ T x) \n",
    "        \n",
    "        Parameters\n",
    "        ----------\n",
    "        x: np.ndarray\n",
    "            Input vector of length 2.\n",
    "        \n",
    "        Returns\n",
    "        -------\n",
    "        y: np.float\n",
    "            Exit of the perceptron after the activation function.\n",
    "        \n",
    "        \"\"\"\n",
    "        \n",
    "        net = self.net_function(x)\n",
    "        y = self.sigmoid(net)\n",
    "        \n",
    "        return y        \n",
    "    \n",
    "    def update(self, x: np.ndarray, grad_output: float ) -> None:\n",
    "        \"\"\"\n",
    "        Update weights w.\n",
    "        \n",
    "        Parameters\n",
    "        ----------\n",
    "        x: np.ndarray\n",
    "            Input vector of length 2.\n",
    "        grad_output: np.float\n",
    "            Gradient of the error relative to the output y perceptron \n",
    "            grad_output = yi - di\n",
    "            \n",
    "        \"\"\" \n",
    "        # Update weight formula: 𝐰=𝐰−𝜂∇𝐰𝐸\n",
    "        # ∇𝐰𝐸=(𝑦𝑖−𝑑𝑖)𝐹′(net𝑖)𝐱\n",
    "        # 𝐹′(𝑥)=𝐹(𝑥)(1−𝐹(𝑥))\n",
    "        # 𝐹(𝑥)=1/1+𝑒**(−𝑥)  \n",
    "        # So, ∇𝐰𝐸=(𝑦𝑖−𝑑𝑖)𝐹((net𝑖)𝐱)(1−𝐹((net𝑖)𝐱))\n",
    "        # and thus, 𝐰=𝐰−𝜂(𝑦𝑖−𝑑𝑖)𝐹((net𝑖)𝐱)(1−𝐹((net𝑖)𝐱))\n",
    "        \n",
    "        net = self.net_function(x)\n",
    "        gradient = grad_output*self.sigmoid(net)*(1-self.sigmoid(net))\n",
    "        for index in range(len(self.w)):\n",
    "            self.w[index] = self.w[index] - self.lr*gradient \n",
    "            \n",
    "        \n",
    "    def sigmoid(self, net : float) -> float:\n",
    "        y = 1/(1+math.exp(-net))\n",
    "        return y\n",
    "    \n",
    "    def net_function(self, x : np.ndarray) -> float:\n",
    "        net = x[0]*self.w[1]+x[1]*self.w[2]+self.w[0]\n",
    "        return net"
   ]
  },
  {
   "cell_type": "code",
   "execution_count": 9,
   "metadata": {},
   "outputs": [
    {
     "name": "stdout",
     "output_type": "stream",
     "text": [
      "Loss :  0.49753517929604624\n"
     ]
    }
   ],
   "source": [
    "up_perceptron = Perceptron(lr=0.01)\n",
    "y = []\n",
    "loss = 0\n",
    "\n",
    "for index in range(len(data['D'])):\n",
    "    y.append(up_perceptron.forward(data['X'][index]))\n",
    "    loss = 1/2*(y[index] - float(data['D'][index]))**2\n",
    "    up_perceptron.update(data['X'][index], (y[index] - data['D'][index]))\n",
    "    \n",
    "        \n",
    "print(\"Loss : \", loss) "
   ]
  },
  {
   "cell_type": "code",
   "execution_count": 10,
   "metadata": {},
   "outputs": [
    {
     "name": "stdout",
     "output_type": "stream",
     "text": [
      "Updated Weights:  [-4.10670415e-04 -1.00041068e+00 -1.00041068e+00]\n"
     ]
    },
    {
     "data": {
      "text/plain": [
       "<function matplotlib.pyplot.show(*args, **kw)>"
      ]
     },
     "execution_count": 10,
     "metadata": {},
     "output_type": "execute_result"
    },
    {
     "data": {
      "image/png": "[encoded data removed]",
      "text/plain": [
       "<Figure size 432x288 with 1 Axes>"
      ]
     },
     "metadata": {
      "needs_background": "light"
     },
     "output_type": "display_data"
    }
   ],
   "source": [
    "print(\"Updated Weights: \", up_perceptron.w)\n",
    "y_new_boundary = (-up_perceptron.w[1]/up_perceptron.w[2])*original_x_boundary-(up_perceptron.w[0]/up_perceptron.w[2])\n",
    "\n",
    "plt.title('Data and Decision Boundaries')\n",
    "plt.scatter(data['X'][:4,0], data['X'][:4,1], c='blue', marker='o', label = 'Class 1')\n",
    "plt.scatter(data['X'][-4:,0], data['X'][-4:,1], c='red', marker='o', label = 'Class 0')\n",
    "plt.plot(original_x_boundary,original_y_boundary, label = 'Original Boundary', marker='|', linestyle='dashed')\n",
    "plt.plot(original_x_boundary,y_new_boundary, label = 'Final Boundary')\n",
    "plt.legend()\n",
    "plt.show"
   ]
  },
  {
   "cell_type": "code",
   "execution_count": 11,
   "metadata": {},
   "outputs": [
    {
     "name": "stdout",
     "output_type": "stream",
     "text": [
      "Final Loss :  0.007353237946721341\n"
     ]
    }
   ],
   "source": [
    "up_perceptron = Perceptron(lr=0.01)\n",
    "y = []\n",
    "loss_all = []\n",
    "\n",
    "for index in range(len(data['D'])):\n",
    "    for epochs in range(100):\n",
    "        y.append(up_perceptron.forward(data['X'][index]))\n",
    "        up_perceptron.update(data['X'][index], (y[index] - data['D'][index])) \n",
    "        loss_all.append(1/2*(y[index] - float(data['D'][index]))**2)\n",
    "\n",
    "print(\"Final Loss : \", loss_all[-1])"
   ]
  },
  {
   "cell_type": "code",
   "execution_count": 12,
   "metadata": {},
   "outputs": [
    {
     "name": "stdout",
     "output_type": "stream",
     "text": [
      "Final Weights:  [ 0.24592954 -0.7540713  -0.7540713 ]\n"
     ]
    },
    {
     "data": {
      "text/plain": [
       "<function matplotlib.pyplot.show(*args, **kw)>"
      ]
     },
     "execution_count": 12,
     "metadata": {},
     "output_type": "execute_result"
    },
    {
     "data": {
      "image/png": "[encoded data removed]",
      "text/plain": [
       "<Figure size 432x288 with 1 Axes>"
      ]
     },
     "metadata": {
      "needs_background": "light"
     },
     "output_type": "display_data"
    }
   ],
   "source": [
    "print(\"Final Weights: \", up_perceptron.w)\n",
    "y_new_boundary = (-up_perceptron.w[1]/up_perceptron.w[2])*original_x_boundary-(up_perceptron.w[0]/up_perceptron.w[2])\n",
    "\n",
    "\n",
    "plt.title('Data and Decision Boundaries')\n",
    "plt.scatter(data['X'][:4,0], data['X'][:4,1], c='blue', marker='o', label = 'Class 1')\n",
    "plt.scatter(data['X'][-4:,0], data['X'][-4:,1], c='red', marker='o', label = 'Class 0')\n",
    "plt.plot(original_x_boundary,original_y_boundary, label = 'Original Boundary', marker='|', linestyle='dashed')\n",
    "plt.plot(original_x_boundary,y_new_boundary, label = 'Final Boundary')\n",
    "plt.legend()\n",
    "plt.show"
   ]
  },
  {
   "cell_type": "code",
   "execution_count": null,
   "metadata": {},
   "outputs": [],
   "source": []
  }
 ],
 "metadata": {
  "kernelspec": {
   "display_name": "Python 3",
   "language": "python",
   "name": "python3"
  },
  "language_info": {
   "codemirror_mode": {
    "name": "ipython",
    "version": 3
   },
   "file_extension": ".py",
   "mimetype": "text/x-python",
   "name": "python",
   "nbconvert_exporter": "python",
   "pygments_lexer": "ipython3",
   "version": "3.8.3"
  }
 },
 "nbformat": 4,
 "nbformat_minor": 5
}
