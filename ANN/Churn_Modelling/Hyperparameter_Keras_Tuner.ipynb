{
  "nbformat": 4,
  "nbformat_minor": 0,
  "metadata": {
    "colab": {
      "name": "Hyperparameter_Keras_Tuner.ipynb",
      "provenance": [],
      "collapsed_sections": [],
      "toc_visible": true
    },
    "kernelspec": {
      "name": "python3",
      "display_name": "Python 3"
    },
    "accelerator": "GPU"
  },
  "cells": [
    {
      "cell_type": "markdown",
      "metadata": {
        "id": "kLEeicHx3cI1"
      },
      "source": [
        "# Bank Customer Churn Prediction Model\r\n",
        "## Using Keras Tuner in Google Colab\r\n",
        "\r\n",
        "Hyperparameters Tuned:\r\n",
        "- Number of Hidden Layers\r\n",
        "- Number of Neurons in Hiden Layer\r\n",
        "- Learning Rate\r\n",
        "- Number of epochs"
      ]
    },
    {
      "cell_type": "markdown",
      "metadata": {
        "id": "AIGdjc-oGaKw"
      },
      "source": [
        "### Test wether GPU is working? "
      ]
    },
    {
      "cell_type": "code",
      "metadata": {
        "colab": {
          "base_uri": "https://localhost:8080/",
          "height": 35
        },
        "id": "CJspOjDtEKJs",
        "outputId": "1ed8d632-5888-4429-aff8-71d360e7e282"
      },
      "source": [
        "import tensorflow as tf\r\n",
        "tf.test.gpu_device_name()"
      ],
      "execution_count": 2,
      "outputs": [
        {
          "output_type": "execute_result",
          "data": {
            "application/vnd.google.colaboratory.intrinsic+json": {
              "type": "string"
            },
            "text/plain": [
              "'/device:GPU:0'"
            ]
          },
          "metadata": {
            "tags": []
          },
          "execution_count": 2
        }
      ]
    },
    {
      "cell_type": "markdown",
      "metadata": {
        "id": "ga62UTOVGvUK"
      },
      "source": [
        "### Which GPU we are using?"
      ]
    },
    {
      "cell_type": "code",
      "metadata": {
        "colab": {
          "base_uri": "https://localhost:8080/"
        },
        "id": "IZMaiXAGGXZt",
        "outputId": "101f3198-1c9c-44f3-be96-220e7e46c010"
      },
      "source": [
        "from tensorflow.python.client import device_lib\r\n",
        "device_lib.list_local_devices()"
      ],
      "execution_count": 3,
      "outputs": [
        {
          "output_type": "execute_result",
          "data": {
            "text/plain": [
              "[name: \"/device:CPU:0\"\n",
              " device_type: \"CPU\"\n",
              " memory_limit: 268435456\n",
              " locality {\n",
              " }\n",
              " incarnation: 17573428563776177508, name: \"/device:GPU:0\"\n",
              " device_type: \"GPU\"\n",
              " memory_limit: 14674281152\n",
              " locality {\n",
              "   bus_id: 1\n",
              "   links {\n",
              "   }\n",
              " }\n",
              " incarnation: 2447474448896226743\n",
              " physical_device_desc: \"device: 0, name: Tesla T4, pci bus id: 0000:00:04.0, compute capability: 7.5\"]"
            ]
          },
          "metadata": {
            "tags": []
          },
          "execution_count": 3
        }
      ]
    },
    {
      "cell_type": "markdown",
      "metadata": {
        "id": "QVw70hhBHpXC"
      },
      "source": [
        "### RAM Information"
      ]
    },
    {
      "cell_type": "code",
      "metadata": {
        "colab": {
          "base_uri": "https://localhost:8080/"
        },
        "id": "bpjinoDTHCxn",
        "outputId": "d835f85e-4368-47fe-836d-57ff9384485a"
      },
      "source": [
        "!cat /proc/meminfo"
      ],
      "execution_count": 4,
      "outputs": [
        {
          "output_type": "stream",
          "text": [
            "MemTotal:       13333580 kB\n",
            "MemFree:         9565812 kB\n",
            "MemAvailable:   12032576 kB\n",
            "Buffers:           81180 kB\n",
            "Cached:          2396224 kB\n",
            "SwapCached:            0 kB\n",
            "Active:          1267768 kB\n",
            "Inactive:        2069136 kB\n",
            "Active(anon):     685096 kB\n",
            "Inactive(anon):    10608 kB\n",
            "Active(file):     582672 kB\n",
            "Inactive(file):  2058528 kB\n",
            "Unevictable:           0 kB\n",
            "Mlocked:               0 kB\n",
            "SwapTotal:             0 kB\n",
            "SwapFree:              0 kB\n",
            "Dirty:               812 kB\n",
            "Writeback:             0 kB\n",
            "AnonPages:        859500 kB\n",
            "Mapped:           584348 kB\n",
            "Shmem:             11272 kB\n",
            "Slab:             184016 kB\n",
            "SReclaimable:     132880 kB\n",
            "SUnreclaim:        51136 kB\n",
            "KernelStack:        5056 kB\n",
            "PageTables:         8684 kB\n",
            "NFS_Unstable:          0 kB\n",
            "Bounce:                0 kB\n",
            "WritebackTmp:          0 kB\n",
            "CommitLimit:     6666788 kB\n",
            "Committed_AS:    3808516 kB\n",
            "VmallocTotal:   34359738367 kB\n",
            "VmallocUsed:           0 kB\n",
            "VmallocChunk:          0 kB\n",
            "Percpu:             1048 kB\n",
            "AnonHugePages:         0 kB\n",
            "ShmemHugePages:        0 kB\n",
            "ShmemPmdMapped:        0 kB\n",
            "HugePages_Total:       0\n",
            "HugePages_Free:        0\n",
            "HugePages_Rsvd:        0\n",
            "HugePages_Surp:        0\n",
            "Hugepagesize:       2048 kB\n",
            "Hugetlb:               0 kB\n",
            "DirectMap4k:      206056 kB\n",
            "DirectMap2M:     6084608 kB\n",
            "DirectMap1G:     9437184 kB\n"
          ],
          "name": "stdout"
        }
      ]
    },
    {
      "cell_type": "markdown",
      "metadata": {
        "id": "QKL2IrvDz8yg"
      },
      "source": [
        "### CPU Information"
      ]
    },
    {
      "cell_type": "code",
      "metadata": {
        "id": "0l8h9IXxHsM8",
        "colab": {
          "base_uri": "https://localhost:8080/"
        },
        "outputId": "2796d8be-c693-4bac-e6d4-8c767f56726e"
      },
      "source": [
        "! cat /proc/cpuinfo"
      ],
      "execution_count": 5,
      "outputs": [
        {
          "output_type": "stream",
          "text": [
            "processor\t: 0\n",
            "vendor_id\t: GenuineIntel\n",
            "cpu family\t: 6\n",
            "model\t\t: 79\n",
            "model name\t: Intel(R) Xeon(R) CPU @ 2.20GHz\n",
            "stepping\t: 0\n",
            "microcode\t: 0x1\n",
            "cpu MHz\t\t: 2199.998\n",
            "cache size\t: 56320 KB\n",
            "physical id\t: 0\n",
            "siblings\t: 2\n",
            "core id\t\t: 0\n",
            "cpu cores\t: 1\n",
            "apicid\t\t: 0\n",
            "initial apicid\t: 0\n",
            "fpu\t\t: yes\n",
            "fpu_exception\t: yes\n",
            "cpuid level\t: 13\n",
            "wp\t\t: yes\n",
            "flags\t\t: fpu vme de pse tsc msr pae mce cx8 apic sep mtrr pge mca cmov pat pse36 clflush mmx fxsr sse sse2 ss ht syscall nx pdpe1gb rdtscp lm constant_tsc rep_good nopl xtopology nonstop_tsc cpuid tsc_known_freq pni pclmulqdq ssse3 fma cx16 pcid sse4_1 sse4_2 x2apic movbe popcnt aes xsave avx f16c rdrand hypervisor lahf_lm abm 3dnowprefetch invpcid_single ssbd ibrs ibpb stibp fsgsbase tsc_adjust bmi1 hle avx2 smep bmi2 erms invpcid rtm rdseed adx smap xsaveopt arat md_clear arch_capabilities\n",
            "bugs\t\t: cpu_meltdown spectre_v1 spectre_v2 spec_store_bypass l1tf mds swapgs taa\n",
            "bogomips\t: 4399.99\n",
            "clflush size\t: 64\n",
            "cache_alignment\t: 64\n",
            "address sizes\t: 46 bits physical, 48 bits virtual\n",
            "power management:\n",
            "\n",
            "processor\t: 1\n",
            "vendor_id\t: GenuineIntel\n",
            "cpu family\t: 6\n",
            "model\t\t: 79\n",
            "model name\t: Intel(R) Xeon(R) CPU @ 2.20GHz\n",
            "stepping\t: 0\n",
            "microcode\t: 0x1\n",
            "cpu MHz\t\t: 2199.998\n",
            "cache size\t: 56320 KB\n",
            "physical id\t: 0\n",
            "siblings\t: 2\n",
            "core id\t\t: 0\n",
            "cpu cores\t: 1\n",
            "apicid\t\t: 1\n",
            "initial apicid\t: 1\n",
            "fpu\t\t: yes\n",
            "fpu_exception\t: yes\n",
            "cpuid level\t: 13\n",
            "wp\t\t: yes\n",
            "flags\t\t: fpu vme de pse tsc msr pae mce cx8 apic sep mtrr pge mca cmov pat pse36 clflush mmx fxsr sse sse2 ss ht syscall nx pdpe1gb rdtscp lm constant_tsc rep_good nopl xtopology nonstop_tsc cpuid tsc_known_freq pni pclmulqdq ssse3 fma cx16 pcid sse4_1 sse4_2 x2apic movbe popcnt aes xsave avx f16c rdrand hypervisor lahf_lm abm 3dnowprefetch invpcid_single ssbd ibrs ibpb stibp fsgsbase tsc_adjust bmi1 hle avx2 smep bmi2 erms invpcid rtm rdseed adx smap xsaveopt arat md_clear arch_capabilities\n",
            "bugs\t\t: cpu_meltdown spectre_v1 spectre_v2 spec_store_bypass l1tf mds swapgs taa\n",
            "bogomips\t: 4399.99\n",
            "clflush size\t: 64\n",
            "cache_alignment\t: 64\n",
            "address sizes\t: 46 bits physical, 48 bits virtual\n",
            "power management:\n",
            "\n"
          ],
          "name": "stdout"
        }
      ]
    },
    {
      "cell_type": "markdown",
      "metadata": {
        "id": "qYFxReJt1jCB"
      },
      "source": [
        "# Artificial Neural Network with Hyperparameter Optimization using Keras Tuner"
      ]
    },
    {
      "cell_type": "markdown",
      "metadata": {
        "id": "Fyg1iDbFEGx8"
      },
      "source": [
        "### Data Preprocessing"
      ]
    },
    {
      "cell_type": "code",
      "metadata": {
        "id": "tVsYt_y60DXa"
      },
      "source": [
        "# Importing the libraries\r\n",
        "import numpy as np\r\n",
        "import matplotlib.pyplot as plt\r\n",
        "import pandas as pd"
      ],
      "execution_count": 7,
      "outputs": []
    },
    {
      "cell_type": "code",
      "metadata": {
        "colab": {
          "base_uri": "https://localhost:8080/",
          "height": 215
        },
        "id": "duMK50Hv1ufk",
        "outputId": "410f7466-7189-4a35-f65e-f60bb338f2fd"
      },
      "source": [
        "dataset = pd.read_csv('/content/drive/MyDrive/Google Colab Notebooks/ANN/Churn_Modelling/Churn_Modelling.csv')\r\n",
        "dataset.head()"
      ],
      "execution_count": 8,
      "outputs": [
        {
          "output_type": "execute_result",
          "data": {
            "text/html": [
              "<div>\n",
              "<style scoped>\n",
              "    .dataframe tbody tr th:only-of-type {\n",
              "        vertical-align: middle;\n",
              "    }\n",
              "\n",
              "    .dataframe tbody tr th {\n",
              "        vertical-align: top;\n",
              "    }\n",
              "\n",
              "    .dataframe thead th {\n",
              "        text-align: right;\n",
              "    }\n",
              "</style>\n",
              "<table border=\"1\" class=\"dataframe\">\n",
              "  <thead>\n",
              "    <tr style=\"text-align: right;\">\n",
              "      <th></th>\n",
              "      <th>RowNumber</th>\n",
              "      <th>CustomerId</th>\n",
              "      <th>Surname</th>\n",
              "      <th>CreditScore</th>\n",
              "      <th>Geography</th>\n",
              "      <th>Gender</th>\n",
              "      <th>Age</th>\n",
              "      <th>Tenure</th>\n",
              "      <th>Balance</th>\n",
              "      <th>NumOfProducts</th>\n",
              "      <th>HasCrCard</th>\n",
              "      <th>IsActiveMember</th>\n",
              "      <th>EstimatedSalary</th>\n",
              "      <th>Exited</th>\n",
              "    </tr>\n",
              "  </thead>\n",
              "  <tbody>\n",
              "    <tr>\n",
              "      <th>0</th>\n",
              "      <td>1</td>\n",
              "      <td>15634602</td>\n",
              "      <td>Hargrave</td>\n",
              "      <td>619</td>\n",
              "      <td>France</td>\n",
              "      <td>Female</td>\n",
              "      <td>42</td>\n",
              "      <td>2</td>\n",
              "      <td>0.00</td>\n",
              "      <td>1</td>\n",
              "      <td>1</td>\n",
              "      <td>1</td>\n",
              "      <td>101348.88</td>\n",
              "      <td>1</td>\n",
              "    </tr>\n",
              "    <tr>\n",
              "      <th>1</th>\n",
              "      <td>2</td>\n",
              "      <td>15647311</td>\n",
              "      <td>Hill</td>\n",
              "      <td>608</td>\n",
              "      <td>Spain</td>\n",
              "      <td>Female</td>\n",
              "      <td>41</td>\n",
              "      <td>1</td>\n",
              "      <td>83807.86</td>\n",
              "      <td>1</td>\n",
              "      <td>0</td>\n",
              "      <td>1</td>\n",
              "      <td>112542.58</td>\n",
              "      <td>0</td>\n",
              "    </tr>\n",
              "    <tr>\n",
              "      <th>2</th>\n",
              "      <td>3</td>\n",
              "      <td>15619304</td>\n",
              "      <td>Onio</td>\n",
              "      <td>502</td>\n",
              "      <td>France</td>\n",
              "      <td>Female</td>\n",
              "      <td>42</td>\n",
              "      <td>8</td>\n",
              "      <td>159660.80</td>\n",
              "      <td>3</td>\n",
              "      <td>1</td>\n",
              "      <td>0</td>\n",
              "      <td>113931.57</td>\n",
              "      <td>1</td>\n",
              "    </tr>\n",
              "    <tr>\n",
              "      <th>3</th>\n",
              "      <td>4</td>\n",
              "      <td>15701354</td>\n",
              "      <td>Boni</td>\n",
              "      <td>699</td>\n",
              "      <td>France</td>\n",
              "      <td>Female</td>\n",
              "      <td>39</td>\n",
              "      <td>1</td>\n",
              "      <td>0.00</td>\n",
              "      <td>2</td>\n",
              "      <td>0</td>\n",
              "      <td>0</td>\n",
              "      <td>93826.63</td>\n",
              "      <td>0</td>\n",
              "    </tr>\n",
              "    <tr>\n",
              "      <th>4</th>\n",
              "      <td>5</td>\n",
              "      <td>15737888</td>\n",
              "      <td>Mitchell</td>\n",
              "      <td>850</td>\n",
              "      <td>Spain</td>\n",
              "      <td>Female</td>\n",
              "      <td>43</td>\n",
              "      <td>2</td>\n",
              "      <td>125510.82</td>\n",
              "      <td>1</td>\n",
              "      <td>1</td>\n",
              "      <td>1</td>\n",
              "      <td>79084.10</td>\n",
              "      <td>0</td>\n",
              "    </tr>\n",
              "  </tbody>\n",
              "</table>\n",
              "</div>"
            ],
            "text/plain": [
              "   RowNumber  CustomerId   Surname  ...  IsActiveMember EstimatedSalary Exited\n",
              "0          1    15634602  Hargrave  ...               1       101348.88      1\n",
              "1          2    15647311      Hill  ...               1       112542.58      0\n",
              "2          3    15619304      Onio  ...               0       113931.57      1\n",
              "3          4    15701354      Boni  ...               0        93826.63      0\n",
              "4          5    15737888  Mitchell  ...               1        79084.10      0\n",
              "\n",
              "[5 rows x 14 columns]"
            ]
          },
          "metadata": {
            "tags": []
          },
          "execution_count": 8
        }
      ]
    },
    {
      "cell_type": "code",
      "metadata": {
        "colab": {
          "base_uri": "https://localhost:8080/"
        },
        "id": "bUy1yWDT2QJO",
        "outputId": "9ec35759-dd47-4a8b-b857-b041c2f87a52"
      },
      "source": [
        "dataset.shape"
      ],
      "execution_count": 9,
      "outputs": [
        {
          "output_type": "execute_result",
          "data": {
            "text/plain": [
              "(10000, 14)"
            ]
          },
          "metadata": {
            "tags": []
          },
          "execution_count": 9
        }
      ]
    },
    {
      "cell_type": "code",
      "metadata": {
        "id": "lS4vIfRs2VM3"
      },
      "source": [
        "# As there is no impact of RowNumber, CustomerId and Surname on the model prediction\r\n",
        "# So these columns will be removed\r\n",
        "X = dataset.iloc[:, 3:13]\r\n",
        "y = dataset.iloc[:, 13]"
      ],
      "execution_count": 10,
      "outputs": []
    },
    {
      "cell_type": "code",
      "metadata": {
        "id": "zAGyyoBO2ZNe"
      },
      "source": [
        "# Create dummy variables\r\n",
        "geography=pd.get_dummies(X[\"Geography\"],drop_first=True)\r\n",
        "gender=pd.get_dummies(X['Gender'],drop_first=True)"
      ],
      "execution_count": 11,
      "outputs": []
    },
    {
      "cell_type": "code",
      "metadata": {
        "id": "4CchAfwV2cCe"
      },
      "source": [
        "# Concatenate the Data Frames\r\n",
        "X=pd.concat([X,geography,gender],axis=1)"
      ],
      "execution_count": 12,
      "outputs": []
    },
    {
      "cell_type": "code",
      "metadata": {
        "id": "frRq5VHc2etD"
      },
      "source": [
        "# Drop Unnecessary columns\r\n",
        "X=X.drop(['Geography','Gender'],axis=1)"
      ],
      "execution_count": 13,
      "outputs": []
    },
    {
      "cell_type": "code",
      "metadata": {
        "colab": {
          "base_uri": "https://localhost:8080/",
          "height": 195
        },
        "id": "gm0tZA3E2kvQ",
        "outputId": "4cf278ca-7f2d-4928-adb9-84099e5e7ad8"
      },
      "source": [
        "X.head()"
      ],
      "execution_count": 14,
      "outputs": [
        {
          "output_type": "execute_result",
          "data": {
            "text/html": [
              "<div>\n",
              "<style scoped>\n",
              "    .dataframe tbody tr th:only-of-type {\n",
              "        vertical-align: middle;\n",
              "    }\n",
              "\n",
              "    .dataframe tbody tr th {\n",
              "        vertical-align: top;\n",
              "    }\n",
              "\n",
              "    .dataframe thead th {\n",
              "        text-align: right;\n",
              "    }\n",
              "</style>\n",
              "<table border=\"1\" class=\"dataframe\">\n",
              "  <thead>\n",
              "    <tr style=\"text-align: right;\">\n",
              "      <th></th>\n",
              "      <th>CreditScore</th>\n",
              "      <th>Age</th>\n",
              "      <th>Tenure</th>\n",
              "      <th>Balance</th>\n",
              "      <th>NumOfProducts</th>\n",
              "      <th>HasCrCard</th>\n",
              "      <th>IsActiveMember</th>\n",
              "      <th>EstimatedSalary</th>\n",
              "      <th>Germany</th>\n",
              "      <th>Spain</th>\n",
              "      <th>Male</th>\n",
              "    </tr>\n",
              "  </thead>\n",
              "  <tbody>\n",
              "    <tr>\n",
              "      <th>0</th>\n",
              "      <td>619</td>\n",
              "      <td>42</td>\n",
              "      <td>2</td>\n",
              "      <td>0.00</td>\n",
              "      <td>1</td>\n",
              "      <td>1</td>\n",
              "      <td>1</td>\n",
              "      <td>101348.88</td>\n",
              "      <td>0</td>\n",
              "      <td>0</td>\n",
              "      <td>0</td>\n",
              "    </tr>\n",
              "    <tr>\n",
              "      <th>1</th>\n",
              "      <td>608</td>\n",
              "      <td>41</td>\n",
              "      <td>1</td>\n",
              "      <td>83807.86</td>\n",
              "      <td>1</td>\n",
              "      <td>0</td>\n",
              "      <td>1</td>\n",
              "      <td>112542.58</td>\n",
              "      <td>0</td>\n",
              "      <td>1</td>\n",
              "      <td>0</td>\n",
              "    </tr>\n",
              "    <tr>\n",
              "      <th>2</th>\n",
              "      <td>502</td>\n",
              "      <td>42</td>\n",
              "      <td>8</td>\n",
              "      <td>159660.80</td>\n",
              "      <td>3</td>\n",
              "      <td>1</td>\n",
              "      <td>0</td>\n",
              "      <td>113931.57</td>\n",
              "      <td>0</td>\n",
              "      <td>0</td>\n",
              "      <td>0</td>\n",
              "    </tr>\n",
              "    <tr>\n",
              "      <th>3</th>\n",
              "      <td>699</td>\n",
              "      <td>39</td>\n",
              "      <td>1</td>\n",
              "      <td>0.00</td>\n",
              "      <td>2</td>\n",
              "      <td>0</td>\n",
              "      <td>0</td>\n",
              "      <td>93826.63</td>\n",
              "      <td>0</td>\n",
              "      <td>0</td>\n",
              "      <td>0</td>\n",
              "    </tr>\n",
              "    <tr>\n",
              "      <th>4</th>\n",
              "      <td>850</td>\n",
              "      <td>43</td>\n",
              "      <td>2</td>\n",
              "      <td>125510.82</td>\n",
              "      <td>1</td>\n",
              "      <td>1</td>\n",
              "      <td>1</td>\n",
              "      <td>79084.10</td>\n",
              "      <td>0</td>\n",
              "      <td>1</td>\n",
              "      <td>0</td>\n",
              "    </tr>\n",
              "  </tbody>\n",
              "</table>\n",
              "</div>"
            ],
            "text/plain": [
              "   CreditScore  Age  Tenure    Balance  ...  EstimatedSalary  Germany  Spain  Male\n",
              "0          619   42       2       0.00  ...        101348.88        0      0     0\n",
              "1          608   41       1   83807.86  ...        112542.58        0      1     0\n",
              "2          502   42       8  159660.80  ...        113931.57        0      0     0\n",
              "3          699   39       1       0.00  ...         93826.63        0      0     0\n",
              "4          850   43       2  125510.82  ...         79084.10        0      1     0\n",
              "\n",
              "[5 rows x 11 columns]"
            ]
          },
          "metadata": {
            "tags": []
          },
          "execution_count": 14
        }
      ]
    },
    {
      "cell_type": "code",
      "metadata": {
        "id": "iQh0Q_Cw2mq7"
      },
      "source": [
        "# Splitting the dataset into the Training set and Test set\r\n",
        "from sklearn.model_selection import train_test_split\r\n",
        "X_train, X_test, y_train, y_test = train_test_split(X, y, test_size = 0.2, random_state = 0)"
      ],
      "execution_count": 15,
      "outputs": []
    },
    {
      "cell_type": "code",
      "metadata": {
        "id": "i6Ofg7pt2q5y"
      },
      "source": [
        "# In ANN neuron wights get multiplied with input, so it is necessary to scale the inputs to a common scale.\r\n",
        "# Also it helps in easier multiplication as I/Ps are scaled down\r\n",
        "# It also helps in back propogation as derivatives can be easily found with smaller values.\r\n",
        "# As a result, convergence will happen quickly.\r\n",
        "\r\n",
        "from sklearn.preprocessing import StandardScaler\r\n",
        "sc = StandardScaler()\r\n",
        "X_train = sc.fit_transform(X_train)\r\n",
        "X_test = sc.transform(X_test)"
      ],
      "execution_count": 16,
      "outputs": []
    },
    {
      "cell_type": "code",
      "metadata": {
        "colab": {
          "base_uri": "https://localhost:8080/"
        },
        "id": "jOAhsXkE2uGM",
        "outputId": "07b6efe0-c640-4807-cd70-1b6330d69f71"
      },
      "source": [
        "X_train"
      ],
      "execution_count": 17,
      "outputs": [
        {
          "output_type": "execute_result",
          "data": {
            "text/plain": [
              "array([[ 0.16958176, -0.46460796,  0.00666099, ..., -0.5698444 ,\n",
              "         1.74309049, -1.09168714],\n",
              "       [-2.30455945,  0.30102557, -1.37744033, ...,  1.75486502,\n",
              "        -0.57369368,  0.91601335],\n",
              "       [-1.19119591, -0.94312892, -1.031415  , ..., -0.5698444 ,\n",
              "        -0.57369368, -1.09168714],\n",
              "       ...,\n",
              "       [ 0.9015152 , -0.36890377,  0.00666099, ..., -0.5698444 ,\n",
              "        -0.57369368,  0.91601335],\n",
              "       [-0.62420521, -0.08179119,  1.39076231, ..., -0.5698444 ,\n",
              "         1.74309049, -1.09168714],\n",
              "       [-0.28401079,  0.87525072, -1.37744033, ...,  1.75486502,\n",
              "        -0.57369368, -1.09168714]])"
            ]
          },
          "metadata": {
            "tags": []
          },
          "execution_count": 17
        }
      ]
    },
    {
      "cell_type": "markdown",
      "metadata": {
        "id": "yFX2T0OtEReV"
      },
      "source": [
        "### Defining the Model"
      ]
    },
    {
      "cell_type": "code",
      "metadata": {
        "id": "xx5kA9S32yOF"
      },
      "source": [
        "# The Keras Tuner has four tuners available - RandomSearch, Hyperband, BayesianOptimization, and Sklearn. \r\n",
        "import tensorflow\r\n",
        "from tensorflow import keras\r\n",
        "from tensorflow.keras import layers\r\n",
        "from kerastuner.tuners import RandomSearch, Hyperband"
      ],
      "execution_count": 51,
      "outputs": []
    },
    {
      "cell_type": "code",
      "metadata": {
        "id": "yDQeZ_PW4wkY"
      },
      "source": [
        "def build_model(hp):\r\n",
        "    # Initialising the ANN. This will create an empty neural network\r\n",
        "    model = keras.Sequential()\r\n",
        "\r\n",
        "    # Create 2 to 20 hidden layers with 32 to 512 neurons in each layer\r\n",
        "    for i in range(hp.Int('num_layers', 2, 20)):\r\n",
        "        model.add(layers.Dense(units=hp.Int('units_' + str(i), min_value=32, max_value=512, step=32), activation='relu'))\r\n",
        "    \r\n",
        "    # Create output layer. As this is a binary classification problem, so sigmoid AF is used in the output layer\r\n",
        "    model.add(layers.Dense(1, activation='sigmoid'))\r\n",
        "    \r\n",
        "    # Use learning rate as hyperparameter in compiling ANN\r\n",
        "    hp_learning_rate = hp.Choice('learning_rate', values=[1e-2, 1e-3, 1e-4])\r\n",
        "    model.compile(optimizer=keras.optimizers.Adam(learning_rate=hp_learning_rate), loss='binary_crossentropy', metrics=['accuracy'])\r\n",
        "    \r\n",
        "    return model"
      ],
      "execution_count": 42,
      "outputs": []
    },
    {
      "cell_type": "markdown",
      "metadata": {
        "id": "DlCRuQMpEhh7"
      },
      "source": [
        "### Instantiate the RandomSearch Tuner and perform Hypertuning"
      ]
    },
    {
      "cell_type": "code",
      "metadata": {
        "id": "sjlFSdQc44AT"
      },
      "source": [
        "# Each ANN created above will have 3*5=15 iterations, and it will checked if it is working fine or not\r\n",
        "# All the weights get stored in the directory mentioned as the trainign is happening\r\n",
        "\r\n",
        "tuner_rs = RandomSearch(\r\n",
        "    build_model,\r\n",
        "    objective='val_accuracy',\r\n",
        "    max_trials=5,\r\n",
        "    executions_per_trial=3,\r\n",
        "    directory='ANN_Project',\r\n",
        "    project_name='Churn_RS')"
      ],
      "execution_count": 45,
      "outputs": []
    },
    {
      "cell_type": "code",
      "metadata": {
        "colab": {
          "base_uri": "https://localhost:8080/"
        },
        "id": "St1hy-3M7ViS",
        "outputId": "6bf0acb5-25d2-4c92-9e51-0a0c5c81daef"
      },
      "source": [
        "tuner_rs.search_space_summary()"
      ],
      "execution_count": 44,
      "outputs": [
        {
          "output_type": "stream",
          "text": [
            "Search space summary\n",
            "Default search space size: 4\n",
            "num_layers (Int)\n",
            "{'default': None, 'conditions': [], 'min_value': 2, 'max_value': 20, 'step': 1, 'sampling': None}\n",
            "units_0 (Int)\n",
            "{'default': None, 'conditions': [], 'min_value': 32, 'max_value': 512, 'step': 32, 'sampling': None}\n",
            "units_1 (Int)\n",
            "{'default': None, 'conditions': [], 'min_value': 32, 'max_value': 512, 'step': 32, 'sampling': None}\n",
            "learning_rate (Choice)\n",
            "{'default': 0.01, 'conditions': [], 'values': [0.01, 0.001, 0.0001], 'ordered': True}\n"
          ],
          "name": "stdout"
        }
      ]
    },
    {
      "cell_type": "code",
      "metadata": {
        "colab": {
          "base_uri": "https://localhost:8080/"
        },
        "id": "vex79369-N5K",
        "outputId": "d0ba69e3-dc3e-47ca-a450-97be8084e69c"
      },
      "source": [
        "tuner_rs.search(X_train, y_train, epochs=5, validation_data=(X_test, y_test))"
      ],
      "execution_count": 46,
      "outputs": [
        {
          "output_type": "stream",
          "text": [
            "Trial 5 Complete [00h 00m 12s]\n",
            "val_accuracy: 0.8618333339691162\n",
            "\n",
            "Best val_accuracy So Far: 0.8629999955495199\n",
            "Total elapsed time: 00h 01m 10s\n",
            "INFO:tensorflow:Oracle triggered exit\n"
          ],
          "name": "stdout"
        }
      ]
    },
    {
      "cell_type": "code",
      "metadata": {
        "colab": {
          "base_uri": "https://localhost:8080/"
        },
        "id": "ONlVB9fKB17A",
        "outputId": "91b7ea0f-242c-48ed-f66f-a4d1f696152f"
      },
      "source": [
        "# Objective is 'val_accuracy' and direction is to 'max' it.\r\n",
        "# Result shows top 10 best results\r\n",
        "tuner_rs.results_summary()"
      ],
      "execution_count": 47,
      "outputs": [
        {
          "output_type": "stream",
          "text": [
            "Results summary\n",
            "Results in ANN_Project/Churn\n",
            "Showing 10 best trials\n",
            "Objective(name='val_accuracy', direction='max')\n",
            "Trial summary\n",
            "Hyperparameters:\n",
            "num_layers: 17\n",
            "units_0: 480\n",
            "units_1: 128\n",
            "learning_rate: 0.001\n",
            "units_2: 128\n",
            "units_3: 96\n",
            "units_4: 96\n",
            "units_5: 224\n",
            "units_6: 512\n",
            "units_7: 96\n",
            "units_8: 320\n",
            "units_9: 128\n",
            "units_10: 32\n",
            "units_11: 32\n",
            "units_12: 32\n",
            "units_13: 32\n",
            "units_14: 32\n",
            "units_15: 32\n",
            "units_16: 32\n",
            "Score: 0.8629999955495199\n",
            "Trial summary\n",
            "Hyperparameters:\n",
            "num_layers: 12\n",
            "units_0: 320\n",
            "units_1: 192\n",
            "learning_rate: 0.0001\n",
            "units_2: 96\n",
            "units_3: 416\n",
            "units_4: 288\n",
            "units_5: 480\n",
            "units_6: 384\n",
            "units_7: 96\n",
            "units_8: 384\n",
            "units_9: 32\n",
            "units_10: 416\n",
            "units_11: 320\n",
            "units_12: 192\n",
            "units_13: 480\n",
            "units_14: 480\n",
            "units_15: 288\n",
            "units_16: 96\n",
            "Score: 0.8629999955495199\n",
            "Trial summary\n",
            "Hyperparameters:\n",
            "num_layers: 10\n",
            "units_0: 320\n",
            "units_1: 256\n",
            "learning_rate: 0.001\n",
            "units_2: 64\n",
            "units_3: 160\n",
            "units_4: 96\n",
            "units_5: 256\n",
            "units_6: 416\n",
            "units_7: 384\n",
            "units_8: 224\n",
            "units_9: 480\n",
            "units_10: 320\n",
            "units_11: 448\n",
            "units_12: 320\n",
            "units_13: 448\n",
            "units_14: 224\n",
            "units_15: 96\n",
            "units_16: 256\n",
            "Score: 0.8618333339691162\n",
            "Trial summary\n",
            "Hyperparameters:\n",
            "num_layers: 10\n",
            "units_0: 416\n",
            "units_1: 416\n",
            "learning_rate: 0.0001\n",
            "units_2: 32\n",
            "units_3: 32\n",
            "units_4: 32\n",
            "units_5: 32\n",
            "units_6: 32\n",
            "units_7: 32\n",
            "units_8: 32\n",
            "units_9: 32\n",
            "Score: 0.8610000212987264\n",
            "Trial summary\n",
            "Hyperparameters:\n",
            "num_layers: 10\n",
            "units_0: 128\n",
            "units_1: 480\n",
            "learning_rate: 0.001\n",
            "units_2: 320\n",
            "units_3: 512\n",
            "units_4: 352\n",
            "units_5: 192\n",
            "units_6: 384\n",
            "units_7: 128\n",
            "units_8: 480\n",
            "units_9: 416\n",
            "units_10: 256\n",
            "units_11: 64\n",
            "units_12: 480\n",
            "units_13: 320\n",
            "units_14: 384\n",
            "units_15: 416\n",
            "units_16: 448\n",
            "Score: 0.8600000143051147\n"
          ],
          "name": "stdout"
        }
      ]
    },
    {
      "cell_type": "markdown",
      "metadata": {
        "id": "Oklrl19kC7e5"
      },
      "source": [
        "From the RandomSearch tuning, best result is :\r\n",
        "- Having an Accuracy Score: 0.8629999955495199 \r\n",
        "- Has 17 Hidden layers\r\n",
        "- Has 480 neurons in layer1, 128 neurons in layer2 and so on...\r\n",
        "- Best learning rate is 0.001"
      ]
    },
    {
      "cell_type": "markdown",
      "metadata": {
        "id": "9Wk80CJBEqGw"
      },
      "source": [
        "### Instantiate the Hyperband Tuner and perform Hypertuning"
      ]
    },
    {
      "cell_type": "code",
      "metadata": {
        "id": "reRKx2XlCMUm"
      },
      "source": [
        "# The Hyperband tuning algorithm uses adaptive resource allocation and early-stopping to quickly converge on a high-performing model. \r\n",
        "# This is done using a sports championship style bracket. \r\n",
        "# The algorithm trains a large number of models for a few epochs and carries forward only the top-performing half of models to the next round.\r\n",
        "# Hyperband determines the number of models to train in a bracket by computing 1 + logfactor(max_epochs) and rounding it up to the nearest integer.\r\n",
        "tuner_hb= Hyperband(build_model,\r\n",
        "                     objective='val_accuracy',\r\n",
        "                     max_epochs=10,\r\n",
        "                     factor=3,\r\n",
        "                     directory='ANN_Project',\r\n",
        "                     project_name='Churn_HB')"
      ],
      "execution_count": 50,
      "outputs": []
    },
    {
      "cell_type": "code",
      "metadata": {
        "id": "cBqF0FN0FDCm"
      },
      "source": [
        "# Creating a callback to stop training early after reaching a certain value for the validation loss.\r\n",
        "stop_early = tensorflow.keras.callbacks.EarlyStopping(monitor='val_loss', patience=5)"
      ],
      "execution_count": 52,
      "outputs": []
    },
    {
      "cell_type": "code",
      "metadata": {
        "colab": {
          "base_uri": "https://localhost:8080/"
        },
        "id": "-gnRfoIPGL96",
        "outputId": "038c96fb-1dca-4905-d679-8cfa40dae70d"
      },
      "source": [
        "tuner_hb.search_space_summary()"
      ],
      "execution_count": 53,
      "outputs": [
        {
          "output_type": "stream",
          "text": [
            "Search space summary\n",
            "Default search space size: 4\n",
            "num_layers (Int)\n",
            "{'default': None, 'conditions': [], 'min_value': 2, 'max_value': 20, 'step': 1, 'sampling': None}\n",
            "units_0 (Int)\n",
            "{'default': None, 'conditions': [], 'min_value': 32, 'max_value': 512, 'step': 32, 'sampling': None}\n",
            "units_1 (Int)\n",
            "{'default': None, 'conditions': [], 'min_value': 32, 'max_value': 512, 'step': 32, 'sampling': None}\n",
            "learning_rate (Choice)\n",
            "{'default': 0.01, 'conditions': [], 'values': [0.01, 0.001, 0.0001], 'ordered': True}\n"
          ],
          "name": "stdout"
        }
      ]
    },
    {
      "cell_type": "code",
      "metadata": {
        "colab": {
          "base_uri": "https://localhost:8080/"
        },
        "id": "Hb7KC2dVGSap",
        "outputId": "13ae3d06-9195-4f2a-8824-57a821cafe12"
      },
      "source": [
        "tuner_hb.search(X_train, y_train, epochs=5, validation_data=(X_test, y_test), validation_split=0.2, callbacks=[stop_early])"
      ],
      "execution_count": 54,
      "outputs": [
        {
          "output_type": "stream",
          "text": [
            "Trial 30 Complete [00h 00m 04s]\n",
            "val_accuracy: 0.815625011920929\n",
            "\n",
            "Best val_accuracy So Far: 0.862500011920929\n",
            "Total elapsed time: 00h 01m 37s\n",
            "INFO:tensorflow:Oracle triggered exit\n"
          ],
          "name": "stdout"
        }
      ]
    },
    {
      "cell_type": "code",
      "metadata": {
        "colab": {
          "base_uri": "https://localhost:8080/"
        },
        "id": "4bTBI4G7Gmv2",
        "outputId": "55116ee1-75c4-427c-8414-a06312c5ba25"
      },
      "source": [
        "tuner_hb.results_summary()"
      ],
      "execution_count": 55,
      "outputs": [
        {
          "output_type": "stream",
          "text": [
            "Results summary\n",
            "Results in ANN_Project/Churn_HB\n",
            "Showing 10 best trials\n",
            "Objective(name='val_accuracy', direction='max')\n",
            "Trial summary\n",
            "Hyperparameters:\n",
            "num_layers: 19\n",
            "units_0: 192\n",
            "units_1: 288\n",
            "learning_rate: 0.0001\n",
            "units_2: 224\n",
            "units_3: 160\n",
            "units_4: 64\n",
            "units_5: 192\n",
            "units_6: 384\n",
            "units_7: 160\n",
            "units_8: 352\n",
            "units_9: 480\n",
            "units_10: 192\n",
            "units_11: 256\n",
            "units_12: 448\n",
            "units_13: 288\n",
            "units_14: 384\n",
            "units_15: 512\n",
            "units_16: 416\n",
            "units_17: 192\n",
            "units_18: 512\n",
            "units_19: 448\n",
            "tuner/epochs: 10\n",
            "tuner/initial_epoch: 0\n",
            "tuner/bracket: 0\n",
            "tuner/round: 0\n",
            "Score: 0.862500011920929\n",
            "Trial summary\n",
            "Hyperparameters:\n",
            "num_layers: 7\n",
            "units_0: 512\n",
            "units_1: 64\n",
            "learning_rate: 0.001\n",
            "tuner/epochs: 10\n",
            "tuner/initial_epoch: 4\n",
            "tuner/bracket: 2\n",
            "tuner/round: 2\n",
            "units_2: 32\n",
            "units_3: 32\n",
            "units_4: 32\n",
            "units_5: 32\n",
            "units_6: 32\n",
            "tuner/trial_id: 1695351795952ea81b4f4a612f5bf382\n",
            "Score: 0.8600000143051147\n",
            "Trial summary\n",
            "Hyperparameters:\n",
            "num_layers: 4\n",
            "units_0: 64\n",
            "units_1: 352\n",
            "learning_rate: 0.001\n",
            "units_2: 128\n",
            "units_3: 448\n",
            "units_4: 288\n",
            "units_5: 448\n",
            "units_6: 320\n",
            "units_7: 448\n",
            "units_8: 320\n",
            "units_9: 256\n",
            "units_10: 352\n",
            "units_11: 448\n",
            "units_12: 224\n",
            "units_13: 128\n",
            "units_14: 416\n",
            "units_15: 320\n",
            "units_16: 288\n",
            "units_17: 384\n",
            "units_18: 352\n",
            "tuner/epochs: 10\n",
            "tuner/initial_epoch: 4\n",
            "tuner/bracket: 2\n",
            "tuner/round: 2\n",
            "tuner/trial_id: b1544e6f177a838bdc6e6cae403ed240\n",
            "Score: 0.8600000143051147\n",
            "Trial summary\n",
            "Hyperparameters:\n",
            "num_layers: 13\n",
            "units_0: 320\n",
            "units_1: 480\n",
            "learning_rate: 0.0001\n",
            "units_2: 64\n",
            "units_3: 160\n",
            "units_4: 384\n",
            "units_5: 352\n",
            "units_6: 448\n",
            "units_7: 384\n",
            "units_8: 448\n",
            "units_9: 64\n",
            "units_10: 224\n",
            "units_11: 480\n",
            "units_12: 64\n",
            "units_13: 288\n",
            "units_14: 32\n",
            "units_15: 64\n",
            "units_16: 160\n",
            "units_17: 288\n",
            "units_18: 480\n",
            "units_19: 64\n",
            "tuner/epochs: 10\n",
            "tuner/initial_epoch: 4\n",
            "tuner/bracket: 1\n",
            "tuner/round: 1\n",
            "tuner/trial_id: 6d280b531b30a55d3ac5d6a03607048f\n",
            "Score: 0.859375\n",
            "Trial summary\n",
            "Hyperparameters:\n",
            "num_layers: 10\n",
            "units_0: 384\n",
            "units_1: 448\n",
            "learning_rate: 0.001\n",
            "units_2: 128\n",
            "units_3: 256\n",
            "units_4: 512\n",
            "units_5: 160\n",
            "units_6: 480\n",
            "units_7: 384\n",
            "units_8: 288\n",
            "units_9: 128\n",
            "units_10: 160\n",
            "units_11: 320\n",
            "units_12: 64\n",
            "units_13: 352\n",
            "units_14: 416\n",
            "units_15: 480\n",
            "units_16: 320\n",
            "units_17: 320\n",
            "units_18: 128\n",
            "units_19: 320\n",
            "tuner/epochs: 10\n",
            "tuner/initial_epoch: 0\n",
            "tuner/bracket: 0\n",
            "tuner/round: 0\n",
            "Score: 0.856249988079071\n",
            "Trial summary\n",
            "Hyperparameters:\n",
            "num_layers: 13\n",
            "units_0: 320\n",
            "units_1: 480\n",
            "learning_rate: 0.0001\n",
            "units_2: 64\n",
            "units_3: 160\n",
            "units_4: 384\n",
            "units_5: 352\n",
            "units_6: 448\n",
            "units_7: 384\n",
            "units_8: 448\n",
            "units_9: 64\n",
            "units_10: 224\n",
            "units_11: 480\n",
            "units_12: 64\n",
            "units_13: 288\n",
            "units_14: 32\n",
            "units_15: 64\n",
            "units_16: 160\n",
            "units_17: 288\n",
            "units_18: 480\n",
            "units_19: 64\n",
            "tuner/epochs: 4\n",
            "tuner/initial_epoch: 0\n",
            "tuner/bracket: 1\n",
            "tuner/round: 0\n",
            "Score: 0.8556249737739563\n",
            "Trial summary\n",
            "Hyperparameters:\n",
            "num_layers: 7\n",
            "units_0: 512\n",
            "units_1: 64\n",
            "learning_rate: 0.001\n",
            "tuner/epochs: 4\n",
            "tuner/initial_epoch: 2\n",
            "tuner/bracket: 2\n",
            "tuner/round: 1\n",
            "units_2: 32\n",
            "units_3: 32\n",
            "units_4: 32\n",
            "units_5: 32\n",
            "units_6: 32\n",
            "tuner/trial_id: 150e96f6fd203681ce7801cc41c19c4e\n",
            "Score: 0.8543750047683716\n",
            "Trial summary\n",
            "Hyperparameters:\n",
            "num_layers: 8\n",
            "units_0: 224\n",
            "units_1: 160\n",
            "learning_rate: 0.0001\n",
            "units_2: 384\n",
            "units_3: 256\n",
            "units_4: 256\n",
            "units_5: 448\n",
            "units_6: 224\n",
            "units_7: 256\n",
            "units_8: 288\n",
            "units_9: 64\n",
            "units_10: 224\n",
            "units_11: 384\n",
            "units_12: 64\n",
            "units_13: 128\n",
            "units_14: 320\n",
            "units_15: 480\n",
            "units_16: 192\n",
            "units_17: 160\n",
            "units_18: 224\n",
            "units_19: 320\n",
            "tuner/epochs: 4\n",
            "tuner/initial_epoch: 0\n",
            "tuner/bracket: 1\n",
            "tuner/round: 0\n",
            "Score: 0.8543750047683716\n",
            "Trial summary\n",
            "Hyperparameters:\n",
            "num_layers: 14\n",
            "units_0: 352\n",
            "units_1: 128\n",
            "learning_rate: 0.0001\n",
            "units_2: 384\n",
            "units_3: 256\n",
            "units_4: 480\n",
            "units_5: 256\n",
            "units_6: 416\n",
            "units_7: 320\n",
            "units_8: 64\n",
            "units_9: 480\n",
            "units_10: 384\n",
            "units_11: 64\n",
            "units_12: 96\n",
            "units_13: 352\n",
            "units_14: 416\n",
            "units_15: 416\n",
            "units_16: 64\n",
            "units_17: 288\n",
            "units_18: 64\n",
            "units_19: 480\n",
            "tuner/epochs: 4\n",
            "tuner/initial_epoch: 0\n",
            "tuner/bracket: 1\n",
            "tuner/round: 0\n",
            "Score: 0.8531249761581421\n",
            "Trial summary\n",
            "Hyperparameters:\n",
            "num_layers: 8\n",
            "units_0: 224\n",
            "units_1: 160\n",
            "learning_rate: 0.0001\n",
            "units_2: 384\n",
            "units_3: 256\n",
            "units_4: 256\n",
            "units_5: 448\n",
            "units_6: 224\n",
            "units_7: 256\n",
            "units_8: 288\n",
            "units_9: 64\n",
            "units_10: 224\n",
            "units_11: 384\n",
            "units_12: 64\n",
            "units_13: 128\n",
            "units_14: 320\n",
            "units_15: 480\n",
            "units_16: 192\n",
            "units_17: 160\n",
            "units_18: 224\n",
            "units_19: 320\n",
            "tuner/epochs: 10\n",
            "tuner/initial_epoch: 4\n",
            "tuner/bracket: 1\n",
            "tuner/round: 1\n",
            "tuner/trial_id: 4690e05cff2d8d174edb9c2590e195e0\n",
            "Score: 0.8531249761581421\n"
          ],
          "name": "stdout"
        }
      ]
    },
    {
      "cell_type": "markdown",
      "metadata": {
        "id": "CQXe2-OYHc_G"
      },
      "source": [
        "From the Hyperband tuning, best result is :\r\n",
        "- Having an Accuracy Score: 0.862500011920929\r\n",
        "- Has 19 Hidden layers\r\n",
        "- Has 192 neurons in layer1, 288 neurons in layer2 and so on...\r\n",
        "- Best learning rate is 0.0001\r\n",
        "- Number of epochs is 10\r\n"
      ]
    },
    {
      "cell_type": "markdown",
      "metadata": {
        "id": "gbuwozwBIHFG"
      },
      "source": [
        "### Train the model based on best Hyperparameters obtained"
      ]
    },
    {
      "cell_type": "code",
      "metadata": {
        "id": "QxHl9ilgHOX0"
      },
      "source": [
        "# Get the optimal hyperparameters\r\n",
        "best_hps=tuner_hb.get_best_hyperparameters(num_trials=1)[0]"
      ],
      "execution_count": 56,
      "outputs": []
    },
    {
      "cell_type": "code",
      "metadata": {
        "colab": {
          "base_uri": "https://localhost:8080/"
        },
        "id": "ZeCHeIVCIXJ9",
        "outputId": "3e796e42-9ef3-44b8-bf21-3bdbebf23536"
      },
      "source": [
        "# Build the model with the optimal hyperparameters and train it on the data for 50 epochs\r\n",
        "model = tuner.hypermodel.build(best_hps)\r\n",
        "history = model.fit(X_train, y_train, epochs=50, validation_split=0.2)\r\n",
        "\r\n",
        "val_acc_per_epoch = history.history['val_accuracy']\r\n",
        "best_epoch = val_acc_per_epoch.index(max(val_acc_per_epoch)) + 1\r\n",
        "print('Best epoch: %d' % (best_epoch,))"
      ],
      "execution_count": 58,
      "outputs": [
        {
          "output_type": "stream",
          "text": [
            "Epoch 1/50\n",
            "200/200 [==============================] - 2s 5ms/step - loss: 0.5431 - accuracy: 0.7907 - val_loss: 0.4214 - val_accuracy: 0.7969\n",
            "Epoch 2/50\n",
            "200/200 [==============================] - 1s 3ms/step - loss: 0.3960 - accuracy: 0.8246 - val_loss: 0.3678 - val_accuracy: 0.8462\n",
            "Epoch 3/50\n",
            "200/200 [==============================] - 1s 3ms/step - loss: 0.3473 - accuracy: 0.8598 - val_loss: 0.3633 - val_accuracy: 0.8481\n",
            "Epoch 4/50\n",
            "200/200 [==============================] - 1s 3ms/step - loss: 0.3283 - accuracy: 0.8684 - val_loss: 0.3664 - val_accuracy: 0.8487\n",
            "Epoch 5/50\n",
            "200/200 [==============================] - 1s 3ms/step - loss: 0.3184 - accuracy: 0.8695 - val_loss: 0.3883 - val_accuracy: 0.8481\n",
            "Epoch 6/50\n",
            "200/200 [==============================] - 1s 3ms/step - loss: 0.3059 - accuracy: 0.8762 - val_loss: 0.3702 - val_accuracy: 0.8444\n",
            "Epoch 7/50\n",
            "200/200 [==============================] - 1s 3ms/step - loss: 0.3053 - accuracy: 0.8699 - val_loss: 0.3952 - val_accuracy: 0.8438\n",
            "Epoch 8/50\n",
            "200/200 [==============================] - 1s 3ms/step - loss: 0.2846 - accuracy: 0.8872 - val_loss: 0.3824 - val_accuracy: 0.8512\n",
            "Epoch 9/50\n",
            "200/200 [==============================] - 1s 3ms/step - loss: 0.2672 - accuracy: 0.8929 - val_loss: 0.3889 - val_accuracy: 0.8612\n",
            "Epoch 10/50\n",
            "200/200 [==============================] - 1s 3ms/step - loss: 0.2543 - accuracy: 0.8963 - val_loss: 0.3970 - val_accuracy: 0.8512\n",
            "Epoch 11/50\n",
            "200/200 [==============================] - 1s 3ms/step - loss: 0.2419 - accuracy: 0.8959 - val_loss: 0.4065 - val_accuracy: 0.8431\n",
            "Epoch 12/50\n",
            "200/200 [==============================] - 1s 3ms/step - loss: 0.2267 - accuracy: 0.9040 - val_loss: 0.4511 - val_accuracy: 0.8462\n",
            "Epoch 13/50\n",
            "200/200 [==============================] - 1s 3ms/step - loss: 0.2190 - accuracy: 0.9057 - val_loss: 0.4598 - val_accuracy: 0.8500\n",
            "Epoch 14/50\n",
            "200/200 [==============================] - 1s 3ms/step - loss: 0.2145 - accuracy: 0.9011 - val_loss: 0.4581 - val_accuracy: 0.8506\n",
            "Epoch 15/50\n",
            "200/200 [==============================] - 1s 3ms/step - loss: 0.1993 - accuracy: 0.9116 - val_loss: 0.4449 - val_accuracy: 0.8394\n",
            "Epoch 16/50\n",
            "200/200 [==============================] - 1s 3ms/step - loss: 0.1759 - accuracy: 0.9223 - val_loss: 0.5668 - val_accuracy: 0.8525\n",
            "Epoch 17/50\n",
            "200/200 [==============================] - 1s 3ms/step - loss: 0.1612 - accuracy: 0.9283 - val_loss: 0.5159 - val_accuracy: 0.8300\n",
            "Epoch 18/50\n",
            "200/200 [==============================] - 1s 3ms/step - loss: 0.1526 - accuracy: 0.9313 - val_loss: 0.6605 - val_accuracy: 0.8369\n",
            "Epoch 19/50\n",
            "200/200 [==============================] - 1s 3ms/step - loss: 0.1376 - accuracy: 0.9403 - val_loss: 0.5737 - val_accuracy: 0.8381\n",
            "Epoch 20/50\n",
            "200/200 [==============================] - 1s 3ms/step - loss: 0.1453 - accuracy: 0.9372 - val_loss: 0.6836 - val_accuracy: 0.8419\n",
            "Epoch 21/50\n",
            "200/200 [==============================] - 1s 3ms/step - loss: 0.1275 - accuracy: 0.9454 - val_loss: 0.6990 - val_accuracy: 0.8144\n",
            "Epoch 22/50\n",
            "200/200 [==============================] - 1s 3ms/step - loss: 0.1128 - accuracy: 0.9503 - val_loss: 0.8020 - val_accuracy: 0.8225\n",
            "Epoch 23/50\n",
            "200/200 [==============================] - 1s 3ms/step - loss: 0.1040 - accuracy: 0.9563 - val_loss: 0.7230 - val_accuracy: 0.8275\n",
            "Epoch 24/50\n",
            "200/200 [==============================] - 1s 3ms/step - loss: 0.0920 - accuracy: 0.9606 - val_loss: 0.8963 - val_accuracy: 0.8281\n",
            "Epoch 25/50\n",
            "200/200 [==============================] - 1s 3ms/step - loss: 0.0828 - accuracy: 0.9650 - val_loss: 0.9348 - val_accuracy: 0.8344\n",
            "Epoch 26/50\n",
            "200/200 [==============================] - 1s 3ms/step - loss: 0.0795 - accuracy: 0.9707 - val_loss: 0.6720 - val_accuracy: 0.8200\n",
            "Epoch 27/50\n",
            "200/200 [==============================] - 1s 3ms/step - loss: 0.0934 - accuracy: 0.9650 - val_loss: 0.9675 - val_accuracy: 0.8281\n",
            "Epoch 28/50\n",
            "200/200 [==============================] - 1s 3ms/step - loss: 0.0841 - accuracy: 0.9665 - val_loss: 0.9050 - val_accuracy: 0.7781\n",
            "Epoch 29/50\n",
            "200/200 [==============================] - 1s 3ms/step - loss: 0.0727 - accuracy: 0.9699 - val_loss: 1.0881 - val_accuracy: 0.8100\n",
            "Epoch 30/50\n",
            "200/200 [==============================] - 1s 3ms/step - loss: 0.0712 - accuracy: 0.9727 - val_loss: 1.0847 - val_accuracy: 0.8225\n",
            "Epoch 31/50\n",
            "200/200 [==============================] - 1s 4ms/step - loss: 0.0590 - accuracy: 0.9764 - val_loss: 1.0628 - val_accuracy: 0.8225\n",
            "Epoch 32/50\n",
            "200/200 [==============================] - 1s 3ms/step - loss: 0.0538 - accuracy: 0.9789 - val_loss: 1.1493 - val_accuracy: 0.8363\n",
            "Epoch 33/50\n",
            "200/200 [==============================] - 1s 3ms/step - loss: 0.0783 - accuracy: 0.9701 - val_loss: 1.1891 - val_accuracy: 0.8263\n",
            "Epoch 34/50\n",
            "200/200 [==============================] - 1s 3ms/step - loss: 0.0543 - accuracy: 0.9800 - val_loss: 1.1016 - val_accuracy: 0.8325\n",
            "Epoch 35/50\n",
            "200/200 [==============================] - 1s 3ms/step - loss: 0.0445 - accuracy: 0.9833 - val_loss: 1.0481 - val_accuracy: 0.8425\n",
            "Epoch 36/50\n",
            "200/200 [==============================] - 1s 3ms/step - loss: 0.0521 - accuracy: 0.9797 - val_loss: 0.9773 - val_accuracy: 0.8175\n",
            "Epoch 37/50\n",
            "200/200 [==============================] - 1s 3ms/step - loss: 0.0450 - accuracy: 0.9838 - val_loss: 1.2853 - val_accuracy: 0.8325\n",
            "Epoch 38/50\n",
            "200/200 [==============================] - 1s 3ms/step - loss: 0.0588 - accuracy: 0.9804 - val_loss: 1.1416 - val_accuracy: 0.8188\n",
            "Epoch 39/50\n",
            "200/200 [==============================] - 1s 3ms/step - loss: 0.0500 - accuracy: 0.9811 - val_loss: 0.9374 - val_accuracy: 0.8350\n",
            "Epoch 40/50\n",
            "200/200 [==============================] - 1s 3ms/step - loss: 0.0448 - accuracy: 0.9821 - val_loss: 1.2906 - val_accuracy: 0.8256\n",
            "Epoch 41/50\n",
            "200/200 [==============================] - 1s 3ms/step - loss: 0.0426 - accuracy: 0.9846 - val_loss: 1.1022 - val_accuracy: 0.8156\n",
            "Epoch 42/50\n",
            "200/200 [==============================] - 1s 3ms/step - loss: 0.0351 - accuracy: 0.9870 - val_loss: 0.8303 - val_accuracy: 0.7962\n",
            "Epoch 43/50\n",
            "200/200 [==============================] - 1s 3ms/step - loss: 0.0528 - accuracy: 0.9824 - val_loss: 1.0673 - val_accuracy: 0.8250\n",
            "Epoch 44/50\n",
            "200/200 [==============================] - 1s 3ms/step - loss: 0.0333 - accuracy: 0.9879 - val_loss: 1.1629 - val_accuracy: 0.7887\n",
            "Epoch 45/50\n",
            "200/200 [==============================] - 1s 3ms/step - loss: 0.0486 - accuracy: 0.9823 - val_loss: 0.7670 - val_accuracy: 0.7987\n",
            "Epoch 46/50\n",
            "200/200 [==============================] - 1s 4ms/step - loss: 0.0463 - accuracy: 0.9839 - val_loss: 1.2172 - val_accuracy: 0.8250\n",
            "Epoch 47/50\n",
            "200/200 [==============================] - 1s 3ms/step - loss: 0.0368 - accuracy: 0.9873 - val_loss: 1.1717 - val_accuracy: 0.8131\n",
            "Epoch 48/50\n",
            "200/200 [==============================] - 1s 3ms/step - loss: 0.0353 - accuracy: 0.9873 - val_loss: 1.1823 - val_accuracy: 0.8188\n",
            "Epoch 49/50\n",
            "200/200 [==============================] - 1s 3ms/step - loss: 0.0285 - accuracy: 0.9903 - val_loss: 0.9275 - val_accuracy: 0.8175\n",
            "Epoch 50/50\n",
            "200/200 [==============================] - 1s 3ms/step - loss: 0.0350 - accuracy: 0.9907 - val_loss: 1.0905 - val_accuracy: 0.8263\n",
            "Best epoch: 9\n"
          ],
          "name": "stdout"
        }
      ]
    },
    {
      "cell_type": "code",
      "metadata": {
        "colab": {
          "base_uri": "https://localhost:8080/"
        },
        "id": "Ub3K3cRBIZbZ",
        "outputId": "57ec42d2-af3d-490d-8266-de3ce4252cfa"
      },
      "source": [
        "# Re-instantiating the hypermodel and train it with the optimal number of epochs from above.\r\n",
        "hypermodel = tuner.hypermodel.build(best_hps)\r\n",
        "hypermodel.fit(X_test, y_test, epochs=best_epoch)"
      ],
      "execution_count": 59,
      "outputs": [
        {
          "output_type": "stream",
          "text": [
            "Epoch 1/9\n",
            "63/63 [==============================] - 1s 4ms/step - loss: 0.6288 - accuracy: 0.8041\n",
            "Epoch 2/9\n",
            "63/63 [==============================] - 0s 4ms/step - loss: 0.4609 - accuracy: 0.7956\n",
            "Epoch 3/9\n",
            "63/63 [==============================] - 0s 3ms/step - loss: 0.4079 - accuracy: 0.7982\n",
            "Epoch 4/9\n",
            "63/63 [==============================] - 0s 3ms/step - loss: 0.3883 - accuracy: 0.8465\n",
            "Epoch 5/9\n",
            "63/63 [==============================] - 0s 3ms/step - loss: 0.3401 - accuracy: 0.8594\n",
            "Epoch 6/9\n",
            "63/63 [==============================] - 0s 3ms/step - loss: 0.3125 - accuracy: 0.8803\n",
            "Epoch 7/9\n",
            "63/63 [==============================] - 0s 3ms/step - loss: 0.2937 - accuracy: 0.8804\n",
            "Epoch 8/9\n",
            "63/63 [==============================] - 0s 3ms/step - loss: 0.2349 - accuracy: 0.9071\n",
            "Epoch 9/9\n",
            "63/63 [==============================] - 0s 4ms/step - loss: 0.2206 - accuracy: 0.9106\n"
          ],
          "name": "stdout"
        },
        {
          "output_type": "execute_result",
          "data": {
            "text/plain": [
              "<tensorflow.python.keras.callbacks.History at 0x7fc887e033d0>"
            ]
          },
          "metadata": {
            "tags": []
          },
          "execution_count": 59
        }
      ]
    },
    {
      "cell_type": "code",
      "metadata": {
        "colab": {
          "base_uri": "https://localhost:8080/"
        },
        "id": "ebwq7A84JtDe",
        "outputId": "9c7b5f45-73e5-4770-d17c-582c0892babf"
      },
      "source": [
        "eval_result = hypermodel.evaluate(X_test, y_test)\r\n",
        "print(\"[Test Loss, Test Accuracy]:\", eval_result)"
      ],
      "execution_count": 61,
      "outputs": [
        {
          "output_type": "stream",
          "text": [
            "63/63 [==============================] - 0s 2ms/step - loss: 0.1708 - accuracy: 0.9405\n",
            "[Test Loss, Test Accuracy]: [0.1707678586244583, 0.940500020980835]\n"
          ],
          "name": "stdout"
        }
      ]
    },
    {
      "cell_type": "markdown",
      "metadata": {
        "id": "lYhaIDLYKBKp"
      },
      "source": [
        "## Result\r\n",
        "- Accuracy rate of 94.05% has been achieved with hypertuning\r\n",
        "- Without hypertuning it was only 86.40%"
      ]
    },
    {
      "cell_type": "code",
      "metadata": {
        "id": "kTaUjNg9J2ia"
      },
      "source": [
        ""
      ],
      "execution_count": null,
      "outputs": []
    }
  ]
}